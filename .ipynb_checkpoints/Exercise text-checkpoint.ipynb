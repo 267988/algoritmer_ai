{
 "cells": [
  {
   "cell_type": "markdown",
   "id": "a334282375cca23a",
   "metadata": {},
   "source": [
    "Given a set of objects  and a bag with a capacity K.  Each object having a weight  and a value. The problem is what objects should be selected and put into the bag so that the sum of the values of the objects in the bag are maximized and the  capacity of the bag is not violated.\n",
    "\n",
    "1: Generate a test case as follows: the number of objects is ( 500 , capacity of the bag 50, 70 ) (1000, capacity of the bag 50, 70) (10000, capacity of the bag 50,70). Each object has a value and a weight between 1 and 10.\n",
    "\n",
    " 2:  Choose two algorithms to generate a starting solution ( phase 1).\n",
    "\n",
    " 3:  Choose two optimization algorithms  from the versions covered in the lecture to optimize the solution obtained in 2 ( version 1, version 2, version 3 ).\n",
    "\n",
    " 4:   What conclusions scould you make ?"
   ]
  },
  {
   "cell_type": "code",
   "execution_count": null,
   "id": "a728fe24d8ae0ea2",
   "metadata": {},
   "outputs": [],
   "source": [
    "#Phase 1: 1: Generate a test case as follows: the number of objects is\n",
    "# ( 500 , capacity of the bag 50, 70 )\n",
    "# (1000, capacity of the bag 50, 70)\n",
    "#( 10000,capacity of the bag 50,70). Each object has a value and a weight between 1 and 10.\n",
    "# Choose two algorithms to generate a starting solution ( phase 1).\n",
    "import random\n",
    "vekt = random.randint(1,10)\n",
    "verdi = random.randint(1,10)\n",
    "vekt = ran\n",
    "v1 =\n",
    "\n",
    "### Phase 2 Method-1: generating a starting solution\n",
    "\n",
    "\n"
   ]
  },
  {
   "cell_type": "code",
   "execution_count": null,
   "id": "4d93681c",
   "metadata": {},
   "outputs": [],
   "source": [
    "\n",
    "In all methods, K denotes the capacity of the knapsack\n",
    "Algorithms:\n",
    "Sort the objects by increasing weight ;\n",
    "Initialize the current weight to 0;\n",
    "Initialize the current value to 0;\n",
    "Do {\n",
    "Select an item I_i to put it in the knapsack ;\n",
    "Current weight = Current weight + Weight[I_i] ;\n",
    "If ( Current-Weight <= K) {\n",
    "Insert I_i into the bag;\n",
    "Current-Value = Current-Value + Value[I_i];\n",
    "} while (all items have been visited );\n",
    "***\n",
    "\n",
    "### Phase 1 Method-2: generating a starting solution\n",
    "\n"
   ]
  }
 ],
 "metadata": {
  "kernelspec": {
   "display_name": "Python 3 (ipykernel)",
   "language": "python",
   "name": "python3"
  },
  "language_info": {
   "codemirror_mode": {
    "name": "ipython",
    "version": 3
   },
   "file_extension": ".py",
   "mimetype": "text/x-python",
   "name": "python",
   "nbconvert_exporter": "python",
   "pygments_lexer": "ipython3",
   "version": "3.11.4"
  }
 },
 "nbformat": 4,
 "nbformat_minor": 5
}
