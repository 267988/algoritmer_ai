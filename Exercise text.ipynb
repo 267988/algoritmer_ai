{
 "cells": [
  {
   "cell_type": "markdown",
   "source": [
    "Given a set of objects  and a bag with a capacity K.  Each object having a weight  and a value. The problem is what objects should be selected and put into the bag so that the sum of the values of the objects in the bag are maximized and the  capacity of the bag is not violated.\n",
    "\n",
    "1: Generate a test case as follows: the number of objects is ( 500 , capacity of the bag 50, 70 ) (1000, kapacity of the bag 50, 70) ( 10000,\n",
    "\n",
    "capacity of the bag 50,70). Each object has a value and a weight between 1 and 10.\n",
    "\n",
    " 2:  Choose two algorithms to generate a starting solution ( phase 1).\n",
    "\n",
    " 3:  Choose two optimization algorithms  from the versions covered in the lecture to optimize the solution obtained in 2 ( version 1, version 2, version 3 ).\n",
    "\n",
    " 4:   What conclusions scould you make ?"
   ],
   "metadata": {
    "collapsed": false
   },
   "id": "a334282375cca23a"
  },
  {
   "cell_type": "code",
   "execution_count": null,
   "outputs": [],
   "source": [],
   "metadata": {
    "collapsed": false
   },
   "id": "a728fe24d8ae0ea2"
  }
 ],
 "metadata": {
  "kernelspec": {
   "display_name": "Python 3",
   "language": "python",
   "name": "python3"
  },
  "language_info": {
   "codemirror_mode": {
    "name": "ipython",
    "version": 2
   },
   "file_extension": ".py",
   "mimetype": "text/x-python",
   "name": "python",
   "nbconvert_exporter": "python",
   "pygments_lexer": "ipython2",
   "version": "2.7.6"
  }
 },
 "nbformat": 4,
 "nbformat_minor": 5
}
